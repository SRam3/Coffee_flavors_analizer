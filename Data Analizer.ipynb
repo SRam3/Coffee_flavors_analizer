{
 "cells": [
  {
   "cell_type": "markdown",
   "id": "abce79b6",
   "metadata": {},
   "source": [
    "# Data Analizer"
   ]
  },
  {
   "cell_type": "code",
   "execution_count": 1,
   "id": "7d9260c2",
   "metadata": {},
   "outputs": [],
   "source": [
    "import pandas as pd\n",
    "import matplotlib.pyplot as plt"
   ]
  },
  {
   "cell_type": "code",
   "execution_count": 2,
   "id": "5af1d8d4",
   "metadata": {},
   "outputs": [],
   "source": [
    "def data_reader():\n",
    "    try:\n",
    "        df = pd.read_json('data.json')\n",
    "    except ValueError:\n",
    "        print('Incorrect file name')\n",
    "    return df"
   ]
  },
  {
   "cell_type": "code",
   "execution_count": 3,
   "id": "21443d52",
   "metadata": {},
   "outputs": [],
   "source": [
    "DATA = data_reader()"
   ]
  },
  {
   "cell_type": "code",
   "execution_count": 4,
   "id": "d756dab2",
   "metadata": {},
   "outputs": [
    {
     "name": "stdout",
     "output_type": "stream",
     "text": [
      "          Acidez  Almendra sana    Balance      Broca     Cuerpo  Dulzura  \\\n",
      "count  51.000000      51.000000  51.000000  51.000000  51.000000     51.0   \n",
      "mean    7.593137      76.774510   7.612745   1.148824   7.544118     10.0   \n",
      "std     0.211901       3.735992   0.236187   0.978772   0.210392      0.0   \n",
      "min     7.000000      61.300000   7.000000   0.000000   7.000000     10.0   \n",
      "25%     7.500000      75.125000   7.500000   0.450000   7.500000     10.0   \n",
      "50%     7.500000      76.650000   7.750000   1.050000   7.500000     10.0   \n",
      "75%     7.750000      79.800000   7.750000   1.575000   7.750000     10.0   \n",
      "max     8.000000      82.100000   8.000000   4.050000   8.000000     10.0   \n",
      "\n",
      "       Fragancia/Aroma    Humedad           ID    Pasilla  Puntaje Catador  \\\n",
      "count        51.000000  51.000000    51.000000  51.000000        51.000000   \n",
      "mean          7.661765  10.409804  2220.745098   2.945686         7.544118   \n",
      "std           0.228164   0.968763   349.972961   2.346525         0.204364   \n",
      "min           7.000000   7.700000  1255.000000   0.700000         7.000000   \n",
      "25%           7.500000   9.800000  2027.500000   1.450000         7.500000   \n",
      "50%           7.750000  10.500000  2290.000000   2.500000         7.500000   \n",
      "75%           7.750000  10.950000  2532.000000   3.625000         7.750000   \n",
      "max           8.000000  13.200000  2731.000000  14.050000         8.000000   \n",
      "\n",
      "       Puntaje Total      Sabor  Sabor Residual  Taza Limpia  Uniformidad  \n",
      "count      51.000000  51.000000       51.000000         51.0         51.0  \n",
      "mean       83.098039   7.553922        7.588235         10.0         10.0  \n",
      "std         1.277770   0.246545        0.222618          0.0          0.0  \n",
      "min        79.000000   7.000000        7.000000         10.0         10.0  \n",
      "25%        82.500000   7.500000        7.500000         10.0         10.0  \n",
      "50%        83.000000   7.500000        7.500000         10.0         10.0  \n",
      "75%        84.000000   7.750000        7.750000         10.0         10.0  \n",
      "max        86.000000   8.000000        8.000000         10.0         10.0  \n"
     ]
    }
   ],
   "source": [
    "def coffee_description():\n",
    "    #Inspect the Dataframe\n",
    "    print(DATA.describe())\n",
    "    \n",
    "coffee_description()"
   ]
  },
  {
   "cell_type": "code",
   "execution_count": 11,
   "id": "bb6a0fa2",
   "metadata": {},
   "outputs": [
    {
     "data": {
      "image/png": "[encoded data removed]",
      "text/plain": [
       "<Figure size 432x288 with 1 Axes>"
      ]
     },
     "metadata": {
      "needs_background": "light"
     },
     "output_type": "display_data"
    }
   ],
   "source": [
    "def acidity():\n",
    "    #Visualize coffee acidity distribution\n",
    "    df_sort_date = DATA.sort_values(\"Fecha\")\n",
    "    acidity = df_sort_date[\"Acidez\"]\n",
    "    plt.hist(acidity, bins=10)\n",
    "    plt.xlabel('Acidity')\n",
    "    plt.show() \n",
    "\n",
    "acidity()"
   ]
  },
  {
   "cell_type": "code",
   "execution_count": null,
   "id": "d04289ac",
   "metadata": {},
   "outputs": [],
   "source": []
  }
 ],
 "metadata": {
  "kernelspec": {
   "display_name": "Python 3 (ipykernel)",
   "language": "python",
   "name": "python3"
  },
  "language_info": {
   "codemirror_mode": {
    "name": "ipython",
    "version": 3
   },
   "file_extension": ".py",
   "mimetype": "text/x-python",
   "name": "python",
   "nbconvert_exporter": "python",
   "pygments_lexer": "ipython3",
   "version": "3.9.7"
  }
 },
 "nbformat": 4,
 "nbformat_minor": 5
}
