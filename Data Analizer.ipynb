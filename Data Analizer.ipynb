{
 "cells": [
  {
   "cell_type": "markdown",
   "id": "abce79b6",
   "metadata": {},
   "source": [
    "# Data Analizer"
   ]
  },
  {
   "cell_type": "code",
   "execution_count": 1,
   "id": "7d9260c2",
   "metadata": {},
   "outputs": [],
   "source": [
    "import pandas as pd\n",
    "import matplotlib.pyplot as plt"
   ]
  },
  {
   "cell_type": "code",
   "execution_count": 2,
   "id": "5af1d8d4",
   "metadata": {},
   "outputs": [],
   "source": [
    "def data_reader():\n",
    "    try:\n",
    "        df = pd.read_json('data.json')\n",
    "    except ValueError:\n",
    "        print('Incorrect file name')\n",
    "    return df"
   ]
  },
  {
   "cell_type": "code",
   "execution_count": 3,
   "id": "21443d52",
   "metadata": {},
   "outputs": [
    {
     "name": "stdout",
     "output_type": "stream",
     "text": [
      "Incorrect file name\n"
     ]
    },
    {
     "ename": "UnboundLocalError",
     "evalue": "local variable 'df' referenced before assignment",
     "output_type": "error",
     "traceback": [
      "\u001b[0;31m---------------------------------------------------------------------------\u001b[0m",
      "\u001b[0;31mUnboundLocalError\u001b[0m                         Traceback (most recent call last)",
      "\u001b[0;32m/var/folders/yz/l9dm0pt511367j465fnn9p7m0000gn/T/ipykernel_3478/1346890192.py\u001b[0m in \u001b[0;36m<module>\u001b[0;34m\u001b[0m\n\u001b[0;32m----> 1\u001b[0;31m \u001b[0mDATA\u001b[0m \u001b[0;34m=\u001b[0m \u001b[0mdata_reader\u001b[0m\u001b[0;34m(\u001b[0m\u001b[0;34m)\u001b[0m\u001b[0;34m\u001b[0m\u001b[0;34m\u001b[0m\u001b[0m\n\u001b[0m",
      "\u001b[0;32m/var/folders/yz/l9dm0pt511367j465fnn9p7m0000gn/T/ipykernel_3478/3216423216.py\u001b[0m in \u001b[0;36mdata_reader\u001b[0;34m()\u001b[0m\n\u001b[1;32m      4\u001b[0m     \u001b[0;32mexcept\u001b[0m \u001b[0mValueError\u001b[0m\u001b[0;34m:\u001b[0m\u001b[0;34m\u001b[0m\u001b[0;34m\u001b[0m\u001b[0m\n\u001b[1;32m      5\u001b[0m         \u001b[0mprint\u001b[0m\u001b[0;34m(\u001b[0m\u001b[0;34m'Incorrect file name'\u001b[0m\u001b[0;34m)\u001b[0m\u001b[0;34m\u001b[0m\u001b[0;34m\u001b[0m\u001b[0m\n\u001b[0;32m----> 6\u001b[0;31m     \u001b[0;32mreturn\u001b[0m \u001b[0mdf\u001b[0m\u001b[0;34m\u001b[0m\u001b[0;34m\u001b[0m\u001b[0m\n\u001b[0m",
      "\u001b[0;31mUnboundLocalError\u001b[0m: local variable 'df' referenced before assignment"
     ]
    }
   ],
   "source": [
    "DATA = data_reader()"
   ]
  },
  {
   "cell_type": "code",
   "execution_count": null,
   "id": "d756dab2",
   "metadata": {},
   "outputs": [],
   "source": [
    "def coffee_atributes():\n",
    "    #Inspect the Dataframe\n",
    "    print(DATA.describe())\n",
    "    \n",
    "coffee_atributes()"
   ]
  },
  {
   "cell_type": "code",
   "execution_count": null,
   "id": "bb6a0fa2",
   "metadata": {},
   "outputs": [],
   "source": [
    "def acidity():\n",
    "    #Visualize coffee acidity distribution\n",
    "    df_sort_date = DATA.sort_values(\"Fecha\")\n",
    "    acidity = df_sort_date[\"Acidez\"]\n",
    "    plt.hist(acidity, bins=10)\n",
    "    plt.xlabel('Acidity')\n",
    "    plt.show() \n",
    "\n",
    "acidity()"
   ]
  },
  {
   "cell_type": "code",
   "execution_count": null,
   "id": "d04289ac",
   "metadata": {},
   "outputs": [],
   "source": []
  }
 ],
 "metadata": {
  "kernelspec": {
   "display_name": "Python 3 (ipykernel)",
   "language": "python",
   "name": "python3"
  },
  "language_info": {
   "codemirror_mode": {
    "name": "ipython",
    "version": 3
   },
   "file_extension": ".py",
   "mimetype": "text/x-python",
   "name": "python",
   "nbconvert_exporter": "python",
   "pygments_lexer": "ipython3",
   "version": "3.9.7"
  }
 },
 "nbformat": 4,
 "nbformat_minor": 5
}
