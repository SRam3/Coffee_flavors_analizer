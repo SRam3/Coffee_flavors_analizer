{
 "cells": [
  {
   "cell_type": "markdown",
   "id": "abce79b6",
   "metadata": {},
   "source": [
    "# Data Analizer"
   ]
  },
  {
   "cell_type": "code",
   "execution_count": null,
   "id": "7d9260c2",
   "metadata": {},
   "outputs": [],
   "source": [
    "import pandas as pd\n",
    "import matplotlib.pyplot as plt"
   ]
  },
  {
   "cell_type": "code",
   "execution_count": null,
   "id": "5af1d8d4",
   "metadata": {},
   "outputs": [],
   "source": [
    "def data_reader():\n",
    "    try:\n",
    "        df = pd.read_json('data.json')\n",
    "    except ValueError:\n",
    "        print('Incorrect file name')\n",
    "    return df"
   ]
  },
  {
   "cell_type": "code",
   "execution_count": null,
   "id": "21443d52",
   "metadata": {},
   "outputs": [],
   "source": [
    "DATA = data_reader()"
   ]
  },
  {
   "cell_type": "code",
   "execution_count": null,
   "id": "d756dab2",
   "metadata": {},
   "outputs": [],
   "source": [
    "def coffee_atributes():\n",
    "    #Inspect the Dataframe\n",
    "    print(DATA.info())\n",
    "    \n",
    "coffee_atributes()"
   ]
  },
  {
   "cell_type": "code",
   "execution_count": null,
   "id": "bb6a0fa2",
   "metadata": {},
   "outputs": [],
   "source": [
    "def acidity():\n",
    "    #Visualize coffee acidity distribution\n",
    "    df_sort_date = DATA.sort_values(\"Fecha\")\n",
    "    acidity = df_sort_date[\"Acidez\"]\n",
    "    plt.hist(acidity, bins=10)\n",
    "    plt.xlabel('Acidity')\n",
    "    plt.show() \n",
    "\n",
    "acidity()"
   ]
  }
 ],
 "metadata": {
  "kernelspec": {
   "display_name": "Python 3 (ipykernel)",
   "language": "python",
   "name": "python3"
  },
  "language_info": {
   "codemirror_mode": {
    "name": "ipython",
    "version": 3
   },
   "file_extension": ".py",
   "mimetype": "text/x-python",
   "name": "python",
   "nbconvert_exporter": "python",
   "pygments_lexer": "ipython3",
   "version": "3.9.7"
  }
 },
 "nbformat": 4,
 "nbformat_minor": 5
}
