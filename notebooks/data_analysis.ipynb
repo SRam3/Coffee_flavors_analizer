{
 "cells": [
  {
   "cell_type": "markdown",
   "id": "abce79b6",
   "metadata": {},
   "source": [
    "# Data Analyzer"
   ]
  },
  {
   "cell_type": "markdown",
   "id": "39c03c24",
   "metadata": {},
   "source": [
    "## Where the data comes from?"
   ]
  },
  {
   "cell_type": "markdown",
   "id": "7734abf8",
   "metadata": {},
   "source": [
    "Origin is considered one of the most critical factors in determining the characteristics of coffee, as the natural environment in which the fruits are grown, such as soil type, topography, and climate, has a profound impact on their sensory attributes. "
   ]
  },
  {
   "cell_type": "markdown",
   "id": "1214ae98",
   "metadata": {},
   "source": [
    "> La Celia farm is renowned for producing high-quality coffee, thanks in part to its prime location in the Andes Mountains in Manizales city. With an altitude range of 1,850 to 1,900 meters above sea level, the coffee cherries mature slowly, resulting in a rich and complex flavor profile. The farm is surrounded by lush forests, bamboo, and a diverse array of fruits and vegetables, such as orange, mandarine, guava, avocado, and banana. The fertile volcanic soil, due to its proximity to the Cumanday or Nevado del Ruiz volcano, adds to the unique terroir of the farm. The farm boasts around 1 hectare of Castillo coffee trees, with 6,000 plants in total. \n",
    ">\n",
    "> La Celia uses three different types of processing methods: Red Honey (48-hour fermentation in cherry), Yellow Honey (48-hour fermentation in mucilage), and washed (48-hour fermentation in mucilage and washed with water). The honey process is more sustainable than the washed process, as it doesn't require water. The coffee beans are dried in the sun, a process that can take longer due to the rainy conditions in the region, but which ultimately yields a higher-quality product due to the main idea to the interation between the seed embryo and sun rays."
   ]
  },
  {
   "cell_type": "markdown",
   "id": "974d0e48",
   "metadata": {},
   "source": [
    "<img src=\"./La_Celia_farm.JPG\" alt=\"La Celia coffee farm\" width=\"50%\">"
   ]
  },
  {
   "cell_type": "code",
   "execution_count": 1,
   "id": "84a5733f",
   "metadata": {},
   "outputs": [],
   "source": [
    "import pandas as pd\n",
    "import matplotlib.pyplot as plt\n",
    "import os"
   ]
  },
  {
   "cell_type": "code",
   "execution_count": 2,
   "id": "2dda90bf",
   "metadata": {},
   "outputs": [],
   "source": [
    "# Import data\n",
    "data_path = os.path.join('..', 'data', 'processed_data','data_cleaned.json')\n",
    "coffee_data = pd.read_json(data_path)"
   ]
  },
  {
   "cell_type": "markdown",
   "id": "efdcb3c3",
   "metadata": {},
   "source": [
    "### Data Exploration"
   ]
  },
  {
   "cell_type": "code",
   "execution_count": 3,
   "id": "21443d52",
   "metadata": {},
   "outputs": [
    {
     "name": "stdout",
     "output_type": "stream",
     "text": [
      "Data shape:  (53, 18)\n",
      "Data types:  Acidez             float64\n",
      "Almendra sana      float64\n",
      "Balance            float64\n",
      "Broca              float64\n",
      "Cuerpo             float64\n",
      "Descripcion         object\n",
      "Dulzura              int64\n",
      "Fecha               object\n",
      "Fragancia/Aroma    float64\n",
      "Humedad            float64\n",
      "ID                   int64\n",
      "Pasilla            float64\n",
      "Puntaje Catador    float64\n",
      "Puntaje Total      float64\n",
      "Sabor              float64\n",
      "Sabor Residual     float64\n",
      "Taza Limpia          int64\n",
      "Uniformidad          int64\n",
      "dtype: object\n",
      "Data head:     Acidez  Almendra sana  Balance  Broca  Cuerpo  \\\n",
      "0    7.50          76.20      7.5   0.16    7.50   \n",
      "1    7.75          79.10      7.5   2.05    7.50   \n",
      "2    7.75          73.65      7.5   0.10    7.50   \n",
      "3    7.50          80.40      7.5   0.10    7.50   \n",
      "4    7.25          78.70      7.5   1.55    7.25   \n",
      "\n",
      "                                         Descripcion  Dulzura       Fecha  \\\n",
      "0  ['Fragancia: N/A', 'Aroma: Frutal', 'herbales,...       10  11/03/2019   \n",
      "1  ['Fragancia: N/A', 'Aroma: N/A' 'taza equilibr...       10  28/11/2019   \n",
      "2  ['Fragancia: Dulce', 'Aroma: Frutal', 'Taza Du...       10  18/05/2022   \n",
      "3  ['Fragancia: Frutos secos', 'Aroma: Mani', 'Ta...       10  22/03/2022   \n",
      "4  ['Fragancia: N/A', 'Aroma: N/A' 'Taza Limpia, ...       10  08/07/2020   \n",
      "\n",
      "   Fragancia/Aroma  Humedad    ID  Pasilla  Puntaje Catador  Puntaje Total  \\\n",
      "0             7.50      9.8  1255     4.20             7.25          81.50   \n",
      "1             7.50     11.1  1612     1.45             7.25          82.00   \n",
      "2             7.50     10.6  2665     2.25             7.50          83.00   \n",
      "3             7.75      9.8  2609     1.95             7.50          82.75   \n",
      "4             7.50      7.7  1949     1.50             7.50          82.00   \n",
      "\n",
      "   Sabor  Sabor Residual  Taza Limpia  Uniformidad  \n",
      "0   7.25            7.00           10           10  \n",
      "1   7.00            7.50           10           10  \n",
      "2   7.50            7.75           10           10  \n",
      "3   7.50            7.50           10           10  \n",
      "4   7.50            7.50           10           10  \n"
     ]
    }
   ],
   "source": [
    "print(\"Data shape: \", coffee_data.shape)\n",
    "print(\"Data types: \", coffee_data.dtypes)\n",
    "print(\"Data head: \", coffee_data.head())"
   ]
  },
  {
   "cell_type": "markdown",
   "id": "1f2596ee",
   "metadata": {},
   "source": [
    "> ### 3 types of information about coffee:\n",
    "> **Physical properties**: Almendra sana, Pasilla, Humedad, Broca. *Presented as a percentage %*\n",
    ">\n",
    "> **Quantitative atributes** (Scored by a Q Grader: Professional coffee taster): Balance, Cuerpo, Dulzura, Fragancia/Aroma, Sabor, Sabor Residual, Taza limpia, Uniformidad. *The score is going from 1 (minimum) and 10 (maximum)*\n",
    ">\n",
    "> **Qualitative attributes**: Related to the coffee sensorial attributes in flavor, fragrance and aroma."
   ]
  },
  {
   "cell_type": "code",
   "execution_count": 4,
   "id": "d756dab2",
   "metadata": {},
   "outputs": [
    {
     "data": {
      "text/html": [
       "<div>\n",
       "<style scoped>\n",
       "    .dataframe tbody tr th:only-of-type {\n",
       "        vertical-align: middle;\n",
       "    }\n",
       "\n",
       "    .dataframe tbody tr th {\n",
       "        vertical-align: top;\n",
       "    }\n",
       "\n",
       "    .dataframe thead th {\n",
       "        text-align: right;\n",
       "    }\n",
       "</style>\n",
       "<table border=\"1\" class=\"dataframe\">\n",
       "  <thead>\n",
       "    <tr style=\"text-align: right;\">\n",
       "      <th></th>\n",
       "      <th>Acidez</th>\n",
       "      <th>Almendra sana</th>\n",
       "      <th>Balance</th>\n",
       "      <th>Broca</th>\n",
       "      <th>Cuerpo</th>\n",
       "      <th>Dulzura</th>\n",
       "      <th>Fragancia/Aroma</th>\n",
       "      <th>Humedad</th>\n",
       "      <th>ID</th>\n",
       "      <th>Pasilla</th>\n",
       "      <th>Puntaje Catador</th>\n",
       "      <th>Puntaje Total</th>\n",
       "      <th>Sabor</th>\n",
       "      <th>Sabor Residual</th>\n",
       "      <th>Taza Limpia</th>\n",
       "      <th>Uniformidad</th>\n",
       "    </tr>\n",
       "  </thead>\n",
       "  <tbody>\n",
       "    <tr>\n",
       "      <th>count</th>\n",
       "      <td>53.000000</td>\n",
       "      <td>53.000000</td>\n",
       "      <td>53.000000</td>\n",
       "      <td>53.000000</td>\n",
       "      <td>53.000000</td>\n",
       "      <td>53.0</td>\n",
       "      <td>53.000000</td>\n",
       "      <td>53.000000</td>\n",
       "      <td>53.000000</td>\n",
       "      <td>53.000000</td>\n",
       "      <td>53.000000</td>\n",
       "      <td>53.000000</td>\n",
       "      <td>53.000000</td>\n",
       "      <td>53.000000</td>\n",
       "      <td>53.0</td>\n",
       "      <td>53.0</td>\n",
       "    </tr>\n",
       "    <tr>\n",
       "      <th>mean</th>\n",
       "      <td>7.594340</td>\n",
       "      <td>76.774528</td>\n",
       "      <td>7.613208</td>\n",
       "      <td>1.129057</td>\n",
       "      <td>7.537736</td>\n",
       "      <td>10.0</td>\n",
       "      <td>7.660377</td>\n",
       "      <td>10.394340</td>\n",
       "      <td>2249.150943</td>\n",
       "      <td>2.896792</td>\n",
       "      <td>7.542453</td>\n",
       "      <td>83.089623</td>\n",
       "      <td>7.547170</td>\n",
       "      <td>7.594340</td>\n",
       "      <td>10.0</td>\n",
       "      <td>10.0</td>\n",
       "    </tr>\n",
       "    <tr>\n",
       "      <th>std</th>\n",
       "      <td>0.209317</td>\n",
       "      <td>3.709611</td>\n",
       "      <td>0.232906</td>\n",
       "      <td>0.966049</td>\n",
       "      <td>0.210290</td>\n",
       "      <td>0.0</td>\n",
       "      <td>0.225183</td>\n",
       "      <td>0.956439</td>\n",
       "      <td>372.480479</td>\n",
       "      <td>2.318487</td>\n",
       "      <td>0.200575</td>\n",
       "      <td>1.253931</td>\n",
       "      <td>0.245423</td>\n",
       "      <td>0.225887</td>\n",
       "      <td>0.0</td>\n",
       "      <td>0.0</td>\n",
       "    </tr>\n",
       "    <tr>\n",
       "      <th>min</th>\n",
       "      <td>7.000000</td>\n",
       "      <td>61.300000</td>\n",
       "      <td>7.000000</td>\n",
       "      <td>0.000000</td>\n",
       "      <td>7.000000</td>\n",
       "      <td>10.0</td>\n",
       "      <td>7.000000</td>\n",
       "      <td>7.700000</td>\n",
       "      <td>1255.000000</td>\n",
       "      <td>0.700000</td>\n",
       "      <td>7.000000</td>\n",
       "      <td>79.000000</td>\n",
       "      <td>7.000000</td>\n",
       "      <td>7.000000</td>\n",
       "      <td>10.0</td>\n",
       "      <td>10.0</td>\n",
       "    </tr>\n",
       "    <tr>\n",
       "      <th>25%</th>\n",
       "      <td>7.500000</td>\n",
       "      <td>75.050000</td>\n",
       "      <td>7.500000</td>\n",
       "      <td>0.450000</td>\n",
       "      <td>7.500000</td>\n",
       "      <td>10.0</td>\n",
       "      <td>7.500000</td>\n",
       "      <td>9.800000</td>\n",
       "      <td>2043.000000</td>\n",
       "      <td>1.450000</td>\n",
       "      <td>7.500000</td>\n",
       "      <td>82.500000</td>\n",
       "      <td>7.500000</td>\n",
       "      <td>7.500000</td>\n",
       "      <td>10.0</td>\n",
       "      <td>10.0</td>\n",
       "    </tr>\n",
       "    <tr>\n",
       "      <th>50%</th>\n",
       "      <td>7.500000</td>\n",
       "      <td>76.650000</td>\n",
       "      <td>7.750000</td>\n",
       "      <td>1.000000</td>\n",
       "      <td>7.500000</td>\n",
       "      <td>10.0</td>\n",
       "      <td>7.750000</td>\n",
       "      <td>10.400000</td>\n",
       "      <td>2291.000000</td>\n",
       "      <td>2.350000</td>\n",
       "      <td>7.500000</td>\n",
       "      <td>83.000000</td>\n",
       "      <td>7.500000</td>\n",
       "      <td>7.500000</td>\n",
       "      <td>10.0</td>\n",
       "      <td>10.0</td>\n",
       "    </tr>\n",
       "    <tr>\n",
       "      <th>75%</th>\n",
       "      <td>7.750000</td>\n",
       "      <td>79.750000</td>\n",
       "      <td>7.750000</td>\n",
       "      <td>1.550000</td>\n",
       "      <td>7.750000</td>\n",
       "      <td>10.0</td>\n",
       "      <td>7.750000</td>\n",
       "      <td>10.900000</td>\n",
       "      <td>2533.000000</td>\n",
       "      <td>3.600000</td>\n",
       "      <td>7.750000</td>\n",
       "      <td>84.000000</td>\n",
       "      <td>7.750000</td>\n",
       "      <td>7.750000</td>\n",
       "      <td>10.0</td>\n",
       "      <td>10.0</td>\n",
       "    </tr>\n",
       "    <tr>\n",
       "      <th>max</th>\n",
       "      <td>8.000000</td>\n",
       "      <td>82.100000</td>\n",
       "      <td>8.000000</td>\n",
       "      <td>4.050000</td>\n",
       "      <td>8.000000</td>\n",
       "      <td>10.0</td>\n",
       "      <td>8.000000</td>\n",
       "      <td>13.200000</td>\n",
       "      <td>2974.000000</td>\n",
       "      <td>14.050000</td>\n",
       "      <td>8.000000</td>\n",
       "      <td>86.000000</td>\n",
       "      <td>8.000000</td>\n",
       "      <td>8.000000</td>\n",
       "      <td>10.0</td>\n",
       "      <td>10.0</td>\n",
       "    </tr>\n",
       "  </tbody>\n",
       "</table>\n",
       "</div>"
      ],
      "text/plain": [
       "          Acidez  Almendra sana    Balance      Broca     Cuerpo  Dulzura  \\\n",
       "count  53.000000      53.000000  53.000000  53.000000  53.000000     53.0   \n",
       "mean    7.594340      76.774528   7.613208   1.129057   7.537736     10.0   \n",
       "std     0.209317       3.709611   0.232906   0.966049   0.210290      0.0   \n",
       "min     7.000000      61.300000   7.000000   0.000000   7.000000     10.0   \n",
       "25%     7.500000      75.050000   7.500000   0.450000   7.500000     10.0   \n",
       "50%     7.500000      76.650000   7.750000   1.000000   7.500000     10.0   \n",
       "75%     7.750000      79.750000   7.750000   1.550000   7.750000     10.0   \n",
       "max     8.000000      82.100000   8.000000   4.050000   8.000000     10.0   \n",
       "\n",
       "       Fragancia/Aroma    Humedad           ID    Pasilla  Puntaje Catador  \\\n",
       "count        53.000000  53.000000    53.000000  53.000000        53.000000   \n",
       "mean          7.660377  10.394340  2249.150943   2.896792         7.542453   \n",
       "std           0.225183   0.956439   372.480479   2.318487         0.200575   \n",
       "min           7.000000   7.700000  1255.000000   0.700000         7.000000   \n",
       "25%           7.500000   9.800000  2043.000000   1.450000         7.500000   \n",
       "50%           7.750000  10.400000  2291.000000   2.350000         7.500000   \n",
       "75%           7.750000  10.900000  2533.000000   3.600000         7.750000   \n",
       "max           8.000000  13.200000  2974.000000  14.050000         8.000000   \n",
       "\n",
       "       Puntaje Total      Sabor  Sabor Residual  Taza Limpia  Uniformidad  \n",
       "count      53.000000  53.000000       53.000000         53.0         53.0  \n",
       "mean       83.089623   7.547170        7.594340         10.0         10.0  \n",
       "std         1.253931   0.245423        0.225887          0.0          0.0  \n",
       "min        79.000000   7.000000        7.000000         10.0         10.0  \n",
       "25%        82.500000   7.500000        7.500000         10.0         10.0  \n",
       "50%        83.000000   7.500000        7.500000         10.0         10.0  \n",
       "75%        84.000000   7.750000        7.750000         10.0         10.0  \n",
       "max        86.000000   8.000000        8.000000         10.0         10.0  "
      ]
     },
     "execution_count": 4,
     "metadata": {},
     "output_type": "execute_result"
    }
   ],
   "source": [
    "coffee_data.describe()"
   ]
  },
  {
   "cell_type": "markdown",
   "id": "7ba26ad6",
   "metadata": {},
   "source": [
    "> ## Histogram Information \n",
    ">> **Physical properties**:\n",
    ">> - *Almendra sana:* The majority of values fall within ranges considered healthy for coffee seeds.\n",
    ">> - *Broca, pasilla:* These variables do not significantly influence the characteristics of the coffee samples.\n",
    ">> - *Humedad:* Represents the moisture content of the seeds. The plot suggests that most of the coffee samples fall within the optimal range of dehydration (10% - 12%)."
   ]
  },
  {
   "cell_type": "code",
   "execution_count": 5,
   "id": "bb6a0fa2",
   "metadata": {},
   "outputs": [
    {
     "data": {
      "image/png": "[encoded data removed]",
      "text/plain": [
       "<Figure size 1440x1440 with 16 Axes>"
      ]
     },
     "metadata": {
      "needs_background": "light"
     },
     "output_type": "display_data"
    }
   ],
   "source": [
    "coffee_data.drop(\"ID\", axis=1, inplace=True)\n",
    "coffee_data.sort_values(\"Fecha\", inplace=True)\n",
    "coffee_data.hist(bins=10, figsize=(20,20));"
   ]
  },
  {
   "cell_type": "markdown",
   "id": "67de7ffd",
   "metadata": {},
   "source": [
    ">> **Quantitative attributes:**\n",
    ">> - *Dulzura, Taza limpia, Uniformidad:* These 3 coffee attributes achieved the maximum score, indicating a high level of consistency in the coffee's quality. This means that the coffee is notably sweet, uncontaminated, and has a consistent flavor across the different cups of the analyzed sample.\n",
    ">> - *Acidez, Balance, Cuerpo, Fragancia/Aroma, Sabor, Sabor Residual*: The distribution of values for these coffee attributes is mainly concentrated around the center of the plot, as they are inherently linked to the 'Puntaje Total'. To better understand how these variables have evolved over time, further analysis is needed."
   ]
  },
  {
   "cell_type": "markdown",
   "id": "e7149f76",
   "metadata": {},
   "source": [
    "## Improvement in coffee processing\n",
    "The coffee growers at La Celia farm have been actively pursuing specialty coffees since 2019 through experimentation with new fermentation techniques, flora additions, and good agriculture practices. Our analysis of the data provides them with valuable feedback on the effectiveness of their efforts towards improving coffee quality. To answer this question, we need to create two plots: one showing the average \"Total Score\" over time, and the other displaying the average \"Puntaje Catador\" as a function of the years."
   ]
  },
  {
   "cell_type": "markdown",
   "id": "ec6442b8",
   "metadata": {},
   "source": [
    "> ### Average Total score\n",
    ">Total score considers the sum of: Acidez, Cuerpo, Dulzura, Balance, Sabor, Sabor Residual, Puntaje Catador, Fragancia/Aroma, Taza limpia, Uniformidad\n",
    ">\n",
    "> This plot considers the average "
   ]
  },
  {
   "cell_type": "code",
   "execution_count": 11,
   "id": "d5dbfe91",
   "metadata": {},
   "outputs": [
    {
     "data": {
      "image/png": "[encoded data removed]",
      "text/plain": [
       "<Figure size 576x432 with 1 Axes>"
      ]
     },
     "metadata": {
      "needs_background": "light"
     },
     "output_type": "display_data"
    }
   ],
   "source": [
    "total_score = coffee_data[[\"Fecha\", \"Puntaje Total\"]].sort_values(\"Fecha\")\n",
    "total_score[\"Fecha\"] = pd.to_datetime(total_score[\"Fecha\"], format='%d/%m/%Y')\n",
    "total_score = total_score.groupby(total_score[\"Fecha\"].dt.year)[\"Puntaje Total\"].mean()\n",
    "plt.figure(figsize=(8,6))\n",
    "plt.plot(total_score.index, total_score.values, marker=\"o\")\n",
    "plt.gca().yaxis.set_major_formatter(\"{:.2f}\".format)\n",
    "plt.xlabel(\"Year\", size=18)\n",
    "plt.ylabel(\"Average Total Score\", size=18)\n",
    "plt.xticks(total_score.index, rotation=30, ha=\"right\", size=15)\n",
    "plt.yticks(size=15)\n",
    "plt.show();"
   ]
  },
  {
   "cell_type": "markdown",
   "id": "e38eff4e",
   "metadata": {},
   "source": [
    "The trend shown in the above figure clearly indicates the positive influence of the efforts made by the coffee growers of La Celia farm in achieving high-quality coffee profiles. This information provides them with a valuable indicator that their coffee processing methods are significantly enhancing the quality of their coffee beans."
   ]
  },
  {
   "cell_type": "markdown",
   "id": "db59e777",
   "metadata": {},
   "source": [
    ">### Average Coffee Taster Score\n",
    ">Another parameter worth investigating in greater depth is the coffee taster score, as it is the individual responsible for assessing the coffee based on both quantitative variables, (such as those mentioned above), as well as qualitative variables that are related to the sensory attributes."
   ]
  },
  {
   "cell_type": "code",
   "execution_count": 13,
   "id": "d16c29dd",
   "metadata": {},
   "outputs": [
    {
     "data": {
      "image/png": "[encoded data removed]",
      "text/plain": [
       "<Figure size 576x432 with 1 Axes>"
      ]
     },
     "metadata": {
      "needs_background": "light"
     },
     "output_type": "display_data"
    }
   ],
   "source": [
    "coffee_taster_score = coffee_data[[\"Fecha\", \"Puntaje Catador\"]].sort_values(\"Fecha\")\n",
    "coffee_taster_score[\"Fecha\"] = pd.to_datetime(coffee_taster_score[\"Fecha\"], format='%d/%m/%Y')\n",
    "coffee_taster_score = coffee_taster_score.groupby(coffee_taster_score[\"Fecha\"].dt.year)[\"Puntaje Catador\"].mean()\n",
    "plt.figure(figsize=(8,6))\n",
    "plt.plot(coffee_taster_score.index, coffee_taster_score.values, marker=\"o\")\n",
    "plt.xlabel(\"Year\", size=18)\n",
    "plt.ylabel(\"Average Coffee Taster Score\", size=18)\n",
    "plt.xticks(coffee_taster_score.index, rotation=30, ha=\"right\", size=15)\n",
    "plt.yticks(size=15)\n",
    "plt.show();"
   ]
  },
  {
   "cell_type": "markdown",
   "id": "ac5d883f",
   "metadata": {},
   "source": [
    "#plotly, dash\n",
    "\n",
    "- Generar columnas frangancia, aroma, taza (idea > regex, apply, expand usando el df DATA pandas)\n",
    "- EDA > hist agrupado por categorias i.e cuales son los valores de almendra sana para diferente fragancias, etc\n",
    "- Generes diferente viz para prop fisicas, propiedades sensoriales teniendo las diferentes fragancias, etc"
   ]
  },
  {
   "cell_type": "markdown",
   "id": "fa8290c8",
   "metadata": {},
   "source": [
    "### Obtain qualitative data"
   ]
  },
  {
   "cell_type": "code",
   "execution_count": 24,
   "id": "22b8d239",
   "metadata": {},
   "outputs": [
    {
     "ename": "SyntaxError",
     "evalue": "invalid syntax (<string>, line 1)",
     "output_type": "error",
     "traceback": [
      "Traceback \u001b[0;36m(most recent call last)\u001b[0m:\n",
      "  File \u001b[1;32m/usr/local/lib/python3.9/site-packages/IPython/core/interactiveshell.py:3251\u001b[0m in \u001b[1;35mrun_code\u001b[0m\n    exec(code_obj, self.user_global_ns, self.user_ns)\n",
      "  Input \u001b[1;32mIn [24]\u001b[0m in \u001b[1;35m<module>\u001b[0m\n    DATA['Descripcion'] = DATA['Descripcion'].apply(eval)\n",
      "  File \u001b[1;32m/usr/local/lib/python3.9/site-packages/pandas/core/series.py:4771\u001b[0m in \u001b[1;35mapply\u001b[0m\n    return SeriesApply(self, func, convert_dtype, args, kwargs).apply()\n",
      "  File \u001b[1;32m/usr/local/lib/python3.9/site-packages/pandas/core/apply.py:1105\u001b[0m in \u001b[1;35mapply\u001b[0m\n    return self.apply_standard()\n",
      "  File \u001b[1;32m/usr/local/lib/python3.9/site-packages/pandas/core/apply.py:1156\u001b[0m in \u001b[1;35mapply_standard\u001b[0m\n    mapped = lib.map_infer(\n",
      "\u001b[0;36m  File \u001b[0;32mpandas/_libs/lib.pyx:2918\u001b[0;36m in \u001b[0;35mpandas._libs.lib.map_infer\u001b[0;36m\u001b[0m\n",
      "\u001b[0;36m  File \u001b[0;32m<string>:1\u001b[0;36m\u001b[0m\n\u001b[0;31m    ['Fragancia: N/A', 'Aroma: frutal, herbal', 'herbales, acidez media y cuerpo medio.', 'Descripcion ', 'Defecto/ Atributo: 'Frutal', 'Análisis Fisico ']\u001b[0m\n\u001b[0m                                                                                                                               ^\u001b[0m\n\u001b[0;31mSyntaxError\u001b[0m\u001b[0;31m:\u001b[0m invalid syntax\n"
     ]
    }
   ],
   "source": [
    "# description = DATA[\"Descripcion\"].str.split(',')\n",
    "# description = DATA[\"Descripcion\"]\n",
    "\n",
    "# print(description.iloc[0][0].split(':')[1])\n",
    "# print(description.iloc[0])\n",
    "\n",
    "# df_new = DATA.copy()\n",
    "\n",
    "DATA['Descripcion'] = DATA['Descripcion'].apply(eval)\n",
    "\n",
    "\n",
    "# for i in DATA[\"Descripcion\"]:\n",
    "#     df_new = df_new.assign(\n",
    "#         Fragancia = DATA[\"Descripcion\"].str.split(',').str.split(':')[1]\n",
    "#     )\n",
    "\n",
    "# for fragancia in description:\n",
    "#     df_new.assign(\n",
    "#     Fragancia = DATA[\"Descripcion\"].str.split(',').iloc[0][0].split(':')[1]\n",
    "#     )\n",
    "\n",
    "# df_new.head()\n",
    "    \n",
    "# df_new = DATA.copy()\n",
    "\n",
    "# df_new = df_new.assign(\n",
    "#     Fragancia = description.str.split(':').str\n",
    "# )\n",
    "\n"
   ]
  },
  {
   "cell_type": "code",
   "execution_count": null,
   "id": "da9f3d6c",
   "metadata": {},
   "outputs": [],
   "source": [
    "df_new = DATA.copy()\n",
    "\n",
    "df_new = df_new.assign(\n",
    "    Fragancia = DATA['Descripcion'].str.split(':').str[1],\n",
    "    Aroma = DATA['Descripcion'].str.split(':').str[1],\n",
    "    Defecto_Atributo = DATA['Descripcion'].str.split(':').str[1]\n",
    ")\n",
    "\n",
    "df_new.head()"
   ]
  },
  {
   "cell_type": "markdown",
   "id": "19d30b7c",
   "metadata": {},
   "source": [
    "Group data by: Fragancia/Aroma"
   ]
  },
  {
   "cell_type": "code",
   "execution_count": null,
   "id": "c38f640d",
   "metadata": {},
   "outputs": [],
   "source": [
    "data_by_fragancia = DATA.loc[:, ~DATA.columns.isin([\"ID\", \"Taza Limpia\", \"Uniformidad\", \"Dulzura\"])].groupby([\"Fragancia/Aroma\"]).mean()\n",
    "# print(data_by_fragancia)"
   ]
  },
  {
   "cell_type": "markdown",
   "id": "86f4bea0",
   "metadata": {},
   "source": [
    "Para crear nuevas columnas en un dataframe de Pandas, puedes utilizar el método .assign(). Este método te permite crear una copia del dataframe y añadir nuevas columnas a esta copia.\n",
    "\n",
    "Para extraer las palabras que están a la derecha de los dos puntos (:), puedes utilizar la función str.split() y seleccionar el segundo elemento del resultado. Por ejemplo, para extraer la fragancia de la primera fila de tu dataframe, puedes hacer lo siguiente:"
   ]
  },
  {
   "cell_type": "code",
   "execution_count": null,
   "id": "23b18ee5",
   "metadata": {},
   "outputs": [],
   "source": [
    "DATA['Fragancia'] = DATA['Descripcion'].str.split(':').str[1]\n",
    "\n",
    "DATA.head()"
   ]
  },
  {
   "cell_type": "markdown",
   "id": "5d2cc316",
   "metadata": {},
   "source": [
    "Para crear las tres nuevas columnas que has mencionado, primero puedes crear una copia del dataframe original con el método .copy(), y luego añadir las nuevas columnas con el método .assign(). Aquí te dejo un ejemplo de cómo podrías hacerlo:"
   ]
  },
  {
   "cell_type": "code",
   "execution_count": null,
   "id": "93449f2d",
   "metadata": {},
   "outputs": [],
   "source": [
    "df_new = df.copy()\n",
    "\n",
    "df_new = df_new.assign(\n",
    "    Fragancia = df['columna'].str.split(':').str[1],\n",
    "    Aroma = df['columna'].str.split(':').str[1],\n",
    "    Defecto_Atributo = df['columna'].str.split(':').str[1]\n",
    ")\n"
   ]
  },
  {
   "cell_type": "code",
   "execution_count": null,
   "id": "53dd67d3",
   "metadata": {},
   "outputs": [],
   "source": [
    "name = ['Fragancia: N/A', '']\n",
    "print(name[0].split(\":\")[1])"
   ]
  },
  {
   "cell_type": "markdown",
   "id": "917344ec",
   "metadata": {},
   "source": [
    "## Conclusions\n"
   ]
  },
  {
   "cell_type": "code",
   "execution_count": null,
   "id": "b8ae2f8b",
   "metadata": {},
   "outputs": [],
   "source": []
  }
 ],
 "metadata": {
  "kernelspec": {
   "display_name": "Python 3 (ipykernel)",
   "language": "python",
   "name": "python3"
  },
  "language_info": {
   "codemirror_mode": {
    "name": "ipython",
    "version": 3
   },
   "file_extension": ".py",
   "mimetype": "text/x-python",
   "name": "python",
   "nbconvert_exporter": "python",
   "pygments_lexer": "ipython3",
   "version": "3.9.7"
  },
  "vscode": {
   "interpreter": {
    "hash": "aee8b7b246df8f9039afb4144a1f6fd8d2ca17a180786b69acc140d282b71a49"
   }
  }
 },
 "nbformat": 4,
 "nbformat_minor": 5
}
